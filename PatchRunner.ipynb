{
 "cells": [
  {
   "cell_type": "code",
   "execution_count": 2,
   "metadata": {
    "collapsed": true
   },
   "outputs": [],
   "source": [
    "import copy"
   ]
  },
  {
   "cell_type": "code",
   "execution_count": 3,
   "metadata": {},
   "outputs": [],
   "source": [
    "import Piece\n",
    "import Board\n",
    "import Player\n",
    "\n",
    "#import PlayerSubclasses\n",
    "import Game"
   ]
  },
  {
   "cell_type": "code",
   "execution_count": 4,
   "metadata": {},
   "outputs": [],
   "source": [
    "import minimax_test"
   ]
  },
  {
   "cell_type": "code",
   "execution_count": 6,
   "metadata": {},
   "outputs": [],
   "source": [
    "p1 = minimax_test.JoelBot('joel')\n",
    "p2 = Player.RandomPlayer('chaos')"
   ]
  },
  {
   "cell_type": "code",
   "execution_count": 7,
   "metadata": {
    "collapsed": true
   },
   "outputs": [],
   "source": [
    "game = Game.Game(p1,p2)"
   ]
  },
  {
   "cell_type": "code",
   "execution_count": 8,
   "metadata": {
    "scrolled": false
   },
   "outputs": [
    {
     "name": "stdout",
     "output_type": "stream",
     "text": [
      "Turn: 1\n",
      "joel chooses to pass.\n",
      "STATUS:\n",
      "joel: b:6, i:0, e:81, loc:1\n",
      "chaos: b:5, i:0, e:81, loc:0\n",
      "\n",
      "\n",
      "Turn: 2\n",
      "chaos has 4 valid moves.\n",
      "chaos adds the 0/3 cross piece to his board.\n",
      "STATUS:\n",
      "chaos: b:5, i:1, e:75, loc:3\n",
      "joel: b:6, i:0, e:81, loc:1\n",
      "\n",
      "\n",
      "Turn: 3\n",
      "joel chooses to pass.\n",
      "STATUS:\n",
      "joel: b:9, i:0, e:81, loc:4\n",
      "chaos: b:5, i:1, e:75, loc:3\n",
      "\n",
      "\n",
      "Turn: 4\n",
      "chaos has 4 valid moves.\n",
      "chaos adds the 5/4 t piece to his board.\n",
      "STATUS:\n",
      "chaos: b:3, i:3, e:70, loc:7\n",
      "joel: b:9, i:0, e:81, loc:4\n",
      "\n",
      "\n",
      "Turn: 5\n",
      "joel chooses to pass.\n",
      "STATUS:\n",
      "joel: b:13, i:0, e:81, loc:8\n",
      "chaos: b:3, i:3, e:70, loc:7\n",
      "\n",
      "\n",
      "Turn: 6\n",
      "chaos has 2 valid moves.\n",
      "chaos adds the 2/2 half-t piece to his board.\n",
      "STATUS:\n",
      "chaos: b:1, i:3, e:66, loc:9\n",
      "joel: b:13, i:0, e:81, loc:8\n",
      "\n",
      "\n",
      "Turn: 7\n",
      "joel chooses to pass.\n",
      "STATUS:\n",
      "joel: b:15, i:0, e:81, loc:10\n",
      "chaos: b:1, i:3, e:66, loc:9\n",
      "\n",
      "\n",
      "Turn: 8\n",
      "chaos has 1 valid moves.\n",
      "chaos chooses to pass.\n",
      "STATUS:\n",
      "chaos: b:6, i:3, e:66, loc:11\n",
      "joel: b:15, i:0, e:81, loc:10\n",
      "\n",
      "\n",
      "Turn: 9\n",
      "joel chooses to pass.\n",
      "STATUS:\n",
      "joel: b:17, i:0, e:81, loc:12\n",
      "chaos: b:6, i:3, e:66, loc:11\n",
      "\n",
      "\n",
      "Turn: 10\n",
      "chaos has 4 valid moves.\n",
      "chaos adds the 2/1 line piece to his board.\n",
      "Turn: 11\n",
      "chaos has 3 valid moves.\n",
      "chaos adds the 2/2 line piece to his board.\n",
      "STATUS:\n",
      "chaos: b:2, i:3, e:61, loc:14\n",
      "joel: b:17, i:0, e:81, loc:12\n",
      "\n",
      "\n",
      "Turn: 12\n",
      "joel chooses to pass.\n",
      "STATUS:\n",
      "joel: b:20, i:0, e:81, loc:15\n",
      "chaos: b:2, i:3, e:61, loc:14\n",
      "\n",
      "\n",
      "Turn: 13\n",
      "chaos has 2 valid moves.\n",
      "chaos adds the 1/2 u piece to his board.\n",
      "STATUS:\n",
      "chaos: b:1, i:3, e:56, loc:16\n",
      "joel: b:20, i:0, e:81, loc:15\n",
      "\n",
      "\n",
      "Turn: 14\n",
      "joel chooses to pass.\n",
      "STATUS:\n",
      "joel: b:22, i:0, e:81, loc:17\n",
      "chaos: b:1, i:3, e:56, loc:16\n",
      "\n",
      "\n",
      "Turn: 15\n",
      "chaos has 2 valid moves.\n",
      "chaos adds the 1/5 u piece to his board.\n",
      "STATUS:\n",
      "chaos: b:4, i:4, e:50, loc:21\n",
      "joel: b:22, i:0, e:81, loc:17\n",
      "\n",
      "\n",
      "Turn: 16\n",
      "joel chooses to pass.\n",
      "STATUS:\n",
      "joel: b:27, i:0, e:81, loc:22\n",
      "chaos: b:4, i:4, e:50, loc:21\n",
      "\n",
      "\n",
      "Turn: 17\n",
      "chaos has 3 valid moves.\n",
      "chaos adds the 4/2 l piece to his board.\n",
      "STATUS:\n",
      "chaos: b:5, i:5, e:46, loc:23\n",
      "joel: b:27, i:0, e:81, loc:22\n",
      "\n",
      "\n",
      "Turn: 18\n",
      "joel chooses to pass.\n",
      "STATUS:\n",
      "joel: b:29, i:0, e:81, loc:24\n",
      "chaos: b:5, i:5, e:46, loc:23\n",
      "\n",
      "\n",
      "Turn: 19\n",
      "chaos has 3 valid moves.\n",
      "chaos adds the 1/2 tall-s piece to his board.\n",
      "STATUS:\n",
      "chaos: b:4, i:5, e:40, loc:25\n",
      "joel: b:29, i:0, e:81, loc:24\n",
      "\n",
      "\n",
      "Turn: 20\n",
      "joel chooses to pass.\n",
      "joel is given a patch\n",
      "STATUS:\n",
      "joel: b:31, i:0, e:80, loc:26\n",
      "chaos: b:4, i:5, e:40, loc:25\n",
      "\n",
      "\n",
      "Turn: 21\n",
      "chaos has 4 valid moves.\n",
      "chaos adds the 3/1 elbow piece to his board.\n",
      "Turn: 22\n",
      "chaos has 1 valid moves.\n",
      "chaos chooses to pass.\n",
      "STATUS:\n",
      "chaos: b:2, i:5, e:37, loc:27\n",
      "joel: b:31, i:0, e:80, loc:26\n",
      "\n",
      "\n",
      "Turn: 23\n",
      "joel chooses to pass.\n",
      "STATUS:\n",
      "joel: b:33, i:0, e:80, loc:28\n",
      "chaos: b:2, i:5, e:37, loc:27\n",
      "\n",
      "\n",
      "Turn: 24\n",
      "chaos has 2 valid moves.\n",
      "chaos adds the 2/2 stub piece to his board.\n",
      "STATUS:\n",
      "chaos: b:5, i:5, e:32, loc:29\n",
      "joel: b:33, i:0, e:80, loc:28\n",
      "\n",
      "\n",
      "Turn: 25\n",
      "joel chooses to pass.\n",
      "STATUS:\n",
      "joel: b:35, i:0, e:80, loc:30\n",
      "chaos: b:5, i:5, e:32, loc:29\n",
      "\n",
      "\n",
      "Turn: 26\n",
      "chaos has 2 valid moves.\n",
      "chaos adds the 4/2 fat-stair piece to his board.\n",
      "STATUS:\n",
      "chaos: b:1, i:5, e:26, loc:31\n",
      "joel: b:35, i:0, e:80, loc:30\n",
      "\n",
      "\n",
      "Turn: 27\n",
      "joel chooses to pass.\n",
      "joel is given a patch\n",
      "STATUS:\n",
      "joel: b:37, i:0, e:79, loc:32\n",
      "chaos: b:1, i:5, e:26, loc:31\n",
      "\n",
      "\n",
      "Turn: 28\n",
      "chaos has 1 valid moves.\n",
      "chaos chooses to pass.\n",
      "STATUS:\n",
      "chaos: b:3, i:5, e:26, loc:33\n",
      "joel: b:37, i:0, e:79, loc:32\n",
      "\n",
      "\n",
      "Turn: 29\n",
      "joel chooses to pass.\n",
      "STATUS:\n",
      "joel: b:39, i:0, e:79, loc:34\n",
      "chaos: b:3, i:5, e:26, loc:33\n",
      "\n",
      "\n",
      "Turn: 30\n",
      "chaos has 2 valid moves.\n",
      "chaos adds the 2/1 weird piece to his board.\n",
      "Turn: 31\n",
      "chaos has 1 valid moves.\n",
      "chaos chooses to pass.\n",
      "STATUS:\n",
      "chaos: b:7, i:5, e:20, loc:35\n",
      "joel: b:39, i:0, e:79, loc:34\n",
      "\n",
      "\n",
      "Turn: 32\n",
      "joel chooses to pass.\n",
      "STATUS:\n",
      "joel: b:41, i:0, e:79, loc:36\n",
      "chaos: b:7, i:5, e:20, loc:35\n",
      "\n",
      "\n",
      "Turn: 33\n",
      "chaos has 4 valid moves.\n",
      "chaos adds the 7/4 hump piece to his board.\n",
      "chaos is given a patch\n",
      "STATUS:\n",
      "chaos: b:0, i:7, e:13, loc:39\n",
      "joel: b:41, i:0, e:79, loc:36\n",
      "\n",
      "\n",
      "Turn: 34\n",
      "joel chooses to pass.\n",
      "STATUS:\n",
      "joel: b:45, i:0, e:79, loc:40\n",
      "chaos: b:0, i:7, e:13, loc:39\n",
      "\n",
      "\n",
      "Turn: 35\n",
      "chaos has 1 valid moves.\n",
      "chaos chooses to pass.\n",
      "STATUS:\n",
      "chaos: b:9, i:7, e:13, loc:41\n",
      "joel: b:45, i:0, e:79, loc:40\n",
      "\n",
      "\n",
      "Turn: 36\n",
      "joel chooses to pass.\n",
      "STATUS:\n",
      "joel: b:47, i:0, e:79, loc:42\n",
      "chaos: b:9, i:7, e:13, loc:41\n",
      "\n",
      "\n",
      "Turn: 37\n",
      "chaos has 4 valid moves.\n",
      "chaos adds the 6/8 blob piece to his board.\n",
      "chaos is given a patch\n",
      "STATUS:\n",
      "chaos: b:13, i:10, e:6, loc:49\n",
      "joel: b:47, i:0, e:79, loc:42\n",
      "\n",
      "\n",
      "Turn: 38\n",
      "joel chooses to pass.\n",
      "joel is given a patch\n",
      "STATUS:\n",
      "joel: b:55, i:0, e:78, loc:50\n",
      "chaos: b:13, i:10, e:6, loc:49\n",
      "\n",
      "\n",
      "Turn: 39\n",
      "chaos has 3 valid moves.\n",
      "chaos adds the 0/3 cross piece to his board.\n",
      "STATUS:\n",
      "chaos: b:13, i:11, e:0, loc:52\n",
      "joel: b:55, i:0, e:78, loc:50\n",
      "\n",
      "\n",
      "Turn: 40\n",
      "joel chooses to pass.\n",
      "STATUS:\n",
      "joel: b:58, i:0, e:78, loc:53\n",
      "chaos: b:13, i:11, e:0, loc:52\n",
      "\n",
      "\n",
      "Turn: 41\n",
      "chaos has 1 valid moves.\n",
      "chaos chooses to pass.\n",
      "STATUS:\n",
      "chaos: b:26, i:11, e:0, loc:54\n",
      "joel: b:58, i:0, e:78, loc:53\n",
      "\n",
      "\n",
      "joel scored -98. chaos scored 26\n"
     ]
    }
   ],
   "source": [
    "game.reset()\n",
    "game.run_game()"
   ]
  },
  {
   "cell_type": "code",
   "execution_count": 11,
   "metadata": {},
   "outputs": [
    {
     "data": {
      "text/plain": [
       "'mbot'"
      ]
     },
     "execution_count": 11,
     "metadata": {},
     "output_type": "execute_result"
    }
   ],
   "source": [
    "game.player_one.name"
   ]
  },
  {
   "cell_type": "code",
   "execution_count": 11,
   "metadata": {
    "collapsed": true
   },
   "outputs": [],
   "source": [
    "clone = copy.deepcopy(game)"
   ]
  },
  {
   "cell_type": "code",
   "execution_count": 15,
   "metadata": {},
   "outputs": [
    {
     "name": "stdout",
     "output_type": "stream",
     "text": [
      "Human: b:0, i:2, e:65, loc:10\n"
     ]
    }
   ],
   "source": [
    "clone.player_two.get_sm_status()"
   ]
  },
  {
   "cell_type": "code",
   "execution_count": 14,
   "metadata": {},
   "outputs": [
    {
     "name": "stdout",
     "output_type": "stream",
     "text": [
      "JoelBot: b:3, i:5, e:65, loc:12\n"
     ]
    }
   ],
   "source": [
    "clone.player_one.get_sm_status()"
   ]
  },
  {
   "cell_type": "code",
   "execution_count": 7,
   "metadata": {},
   "outputs": [
    {
     "name": "stdout",
     "output_type": "stream",
     "text": [
      "MaxBot: b:28, i:14, e:-6, loc:54\n"
     ]
    }
   ],
   "source": [
    "game.player_one.get_sm_status()"
   ]
  },
  {
   "cell_type": "code",
   "execution_count": 13,
   "metadata": {
    "collapsed": true
   },
   "outputs": [
    {
     "name": "stdout",
     "output_type": "stream",
     "text": [
      "STATUS:\n",
      "JoelBot: b:3, i:3, e:70, loc:7\n",
      "Human: b:4, i:1, e:74, loc:4\n",
      "\n",
      "\n",
      "5/5 t, b:2, s:5\n",
      "7/2 t, b:2, s:6\n",
      "2/2 half-t, b:0, s:4\n",
      "2\n",
      "Human adds the 2/2 half-t piece to his board.\n",
      "5/5 t, b:2, s:5\n",
      "7/2 t, b:2, s:6\n",
      "3/4 half-t, b:1, s:5\n",
      "2\n",
      "Human adds the 3/4 half-t piece to his board.\n",
      "STATUS:\n",
      "Human: b:0, i:2, e:65, loc:10\n",
      "JoelBot: b:3, i:3, e:70, loc:7\n",
      "\n",
      "\n",
      "JoelBot adds the 5/5 t piece to his board.\n",
      "STATUS:\n",
      "JoelBot: b:3, i:5, e:65, loc:12\n",
      "Human: b:0, i:2, e:65, loc:10\n",
      "\n",
      "\n",
      "7/2 t, b:2, s:6\n",
      "2/3 h, b:0, s:7\n",
      "2/1 line, b:0, s:2\n",
      "1000\n"
     ]
    },
    {
     "ename": "IndexError",
     "evalue": "list index out of range",
     "output_type": "error",
     "traceback": [
      "\u001b[0;31m---------------------------------------------------------------------------\u001b[0m",
      "\u001b[0;31mIndexError\u001b[0m                                Traceback (most recent call last)",
      "\u001b[0;32m<ipython-input-13-14b32c5b3b5f>\u001b[0m in \u001b[0;36m<module>\u001b[0;34m()\u001b[0m\n\u001b[0;32m----> 1\u001b[0;31m \u001b[0mclone\u001b[0m\u001b[0;34m.\u001b[0m\u001b[0mrun_game\u001b[0m\u001b[0;34m(\u001b[0m\u001b[0;34m)\u001b[0m\u001b[0;34m\u001b[0m\u001b[0m\n\u001b[0m",
      "\u001b[0;32m~/Documents/Personal/patchwork/Game.py\u001b[0m in \u001b[0;36mrun_game\u001b[0;34m(self)\u001b[0m\n\u001b[1;32m     62\u001b[0m             \u001b[0;32mwhile\u001b[0m \u001b[0mactive_player\u001b[0m\u001b[0;34m.\u001b[0m\u001b[0mlocation\u001b[0m \u001b[0;34m<=\u001b[0m \u001b[0minactive_player\u001b[0m\u001b[0;34m.\u001b[0m\u001b[0mlocation\u001b[0m \u001b[0;32mand\u001b[0m \u001b[0;32mnot\u001b[0m \u001b[0mself\u001b[0m\u001b[0;34m.\u001b[0m\u001b[0mgame_over\u001b[0m\u001b[0;34m(\u001b[0m\u001b[0;34m)\u001b[0m\u001b[0;34m:\u001b[0m\u001b[0;34m\u001b[0m\u001b[0m\n\u001b[1;32m     63\u001b[0m                 \u001b[0mchoice_ix\u001b[0m \u001b[0;34m=\u001b[0m \u001b[0mactive_player\u001b[0m\u001b[0;34m.\u001b[0m\u001b[0mchoose_move\u001b[0m\u001b[0;34m(\u001b[0m\u001b[0mself\u001b[0m\u001b[0;34m.\u001b[0m\u001b[0mboard\u001b[0m\u001b[0;34m)\u001b[0m\u001b[0;34m\u001b[0m\u001b[0m\n\u001b[0;32m---> 64\u001b[0;31m                 \u001b[0mpiece\u001b[0m \u001b[0;34m=\u001b[0m \u001b[0mself\u001b[0m\u001b[0;34m.\u001b[0m\u001b[0mboard\u001b[0m\u001b[0;34m.\u001b[0m\u001b[0mmarket\u001b[0m\u001b[0;34m[\u001b[0m\u001b[0mchoice_ix\u001b[0m\u001b[0;34m]\u001b[0m\u001b[0;34m\u001b[0m\u001b[0m\n\u001b[0m\u001b[1;32m     65\u001b[0m                 \u001b[0mself\u001b[0m\u001b[0;34m.\u001b[0m\u001b[0mmake_move\u001b[0m\u001b[0;34m(\u001b[0m\u001b[0mactive_player\u001b[0m\u001b[0;34m,\u001b[0m \u001b[0mpiece\u001b[0m\u001b[0;34m)\u001b[0m\u001b[0;34m\u001b[0m\u001b[0m\n\u001b[1;32m     66\u001b[0m             \u001b[0mprint\u001b[0m\u001b[0;34m(\u001b[0m\u001b[0;34m'STATUS:'\u001b[0m\u001b[0;34m)\u001b[0m\u001b[0;34m\u001b[0m\u001b[0m\n",
      "\u001b[0;31mIndexError\u001b[0m: list index out of range"
     ]
    }
   ],
   "source": [
    "clone.run_game()"
   ]
  },
  {
   "cell_type": "code",
   "execution_count": 7,
   "metadata": {
    "collapsed": true
   },
   "outputs": [],
   "source": [
    "market = game.board.market"
   ]
  },
  {
   "cell_type": "code",
   "execution_count": 11,
   "metadata": {},
   "outputs": [
    {
     "name": "stdout",
     "output_type": "stream",
     "text": [
      "2/2 line, b:0, s:3\n",
      "7/1 line, b:1, s:5\n",
      "1/2 u, b:0, s:5\n",
      "4/2 l, b:1, s:4\n",
      "10/3 l, b:2, s:5\n",
      "1/2 tall-s, b:0, s:6\n",
      "1/3 elbow, b:0, s:3\n",
      "3/1 elbow, b:0, s:3\n",
      "7/6 zig, b:3, s:4\n",
      "10/5 stub, b:3, s:6\n",
      "10/4 stair, b:3, s:5\n",
      "6/5 square, b:2, s:4\n",
      "2/1 weird, b:0, s:6\n",
      "6/8 blob, b:3, s:6\n",
      "5/3 blob, b:1, s:8\n",
      "0/3 cross, b:1, s:6\n",
      "1/4 cross, b:1, s:7\n",
      "7/2 t, b:2, s:6\n",
      "3/4 half-t, b:1, s:5\n"
     ]
    }
   ],
   "source": [
    "game.board.print_market(n=20)"
   ]
  },
  {
   "cell_type": "code",
   "execution_count": 8,
   "metadata": {
    "collapsed": true
   },
   "outputs": [],
   "source": [
    "game.reset()"
   ]
  },
  {
   "cell_type": "code",
   "execution_count": 12,
   "metadata": {
    "collapsed": true
   },
   "outputs": [],
   "source": [
    "l = [0,1,2,3,4,5,6,7]"
   ]
  },
  {
   "cell_type": "code",
   "execution_count": 13,
   "metadata": {
    "collapsed": true
   },
   "outputs": [],
   "source": [
    "l.remove(2)"
   ]
  },
  {
   "cell_type": "code",
   "execution_count": 19,
   "metadata": {},
   "outputs": [
    {
     "data": {
      "text/plain": [
       "[0, 1, 2, 3, 4, 5, 6, 7]"
      ]
     },
     "execution_count": 19,
     "metadata": {},
     "output_type": "execute_result"
    }
   ],
   "source": [
    "l"
   ]
  },
  {
   "cell_type": "code",
   "execution_count": null,
   "metadata": {
    "collapsed": true
   },
   "outputs": [],
   "source": [
    "def remove_index(ix):\n"
   ]
  },
  {
   "cell_type": "code",
   "execution_count": 14,
   "metadata": {},
   "outputs": [],
   "source": [
    "l = l[2+1:] + l[:2]"
   ]
  },
  {
   "cell_type": "code",
   "execution_count": 15,
   "metadata": {},
   "outputs": [
    {
     "data": {
      "text/plain": [
       "[4, 5, 6, 7, 0, 1]"
      ]
     },
     "execution_count": 15,
     "metadata": {},
     "output_type": "execute_result"
    }
   ],
   "source": [
    "l"
   ]
  },
  {
   "cell_type": "code",
   "execution_count": 7,
   "metadata": {
    "collapsed": true
   },
   "outputs": [],
   "source": [
    "import random"
   ]
  },
  {
   "cell_type": "code",
   "execution_count": 8,
   "metadata": {},
   "outputs": [
    {
     "data": {
      "text/plain": [
       "0"
      ]
     },
     "execution_count": 8,
     "metadata": {},
     "output_type": "execute_result"
    }
   ],
   "source": [
    "random.randint(0,3)"
   ]
  },
  {
   "cell_type": "code",
   "execution_count": 11,
   "metadata": {},
   "outputs": [
    {
     "ename": "NameError",
     "evalue": "name 'l' is not defined",
     "output_type": "error",
     "traceback": [
      "\u001b[0;31m---------------------------------------------------------------------------\u001b[0m",
      "\u001b[0;31mNameError\u001b[0m                                 Traceback (most recent call last)",
      "\u001b[0;32m<ipython-input-11-12f54a96f644>\u001b[0m in \u001b[0;36m<module>\u001b[0;34m()\u001b[0m\n\u001b[0;32m----> 1\u001b[0;31m \u001b[0ml\u001b[0m\u001b[0;34m\u001b[0m\u001b[0m\n\u001b[0m",
      "\u001b[0;31mNameError\u001b[0m: name 'l' is not defined"
     ]
    }
   ],
   "source": [
    "l"
   ]
  },
  {
   "cell_type": "code",
   "execution_count": null,
   "metadata": {
    "collapsed": true
   },
   "outputs": [],
   "source": []
  }
 ],
 "metadata": {
  "kernelspec": {
   "display_name": "Python [conda env:PyR]",
   "language": "python",
   "name": "conda-env-PyR-py"
  },
  "language_info": {
   "codemirror_mode": {
    "name": "ipython",
    "version": 3
   },
   "file_extension": ".py",
   "mimetype": "text/x-python",
   "name": "python",
   "nbconvert_exporter": "python",
   "pygments_lexer": "ipython3",
   "version": "3.6.3"
  }
 },
 "nbformat": 4,
 "nbformat_minor": 2
}
